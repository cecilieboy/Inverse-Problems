{
 "cells": [
  {
   "cell_type": "code",
   "execution_count": 106,
   "metadata": {},
   "outputs": [],
   "source": [
    "import numpy as np \n",
    "from matplotlib import pyplot as plt\n",
    "import random\n",
    "import copy"
   ]
  },
  {
   "cell_type": "code",
   "execution_count": 107,
   "metadata": {},
   "outputs": [],
   "source": [
    "# ----\n",
    "# Objective: See figure in assignent.\n",
    "# If the earth has density differences, DeltaRho, measured with respect to the normal density, the gravitational constant will change depending on where youre standing.\n",
    "# We will model the earth with a vertical faultline. To the left of this faultline, DeltaRho=0, while to the right DeltaRho≠0. \n",
    "# DeltaRho is assumed a constant along the horizontal, while it changes discretely at certain depths h_j. Therefore DeltaRho takes discrete values DeltaRho=DeltaRho_j.\n",
    "#\n",
    "# The gravitational constant gradient along the surface is given in the assignment.\n",
    "# Knowing h_j and DeltaRho_j, one may thus reconstruct d(x) where x is the distance from the fault to the observation points along the surface of the Earth.\n",
    "\n",
    "\n",
    "# We are however interested in the inverse problem: Knowing d(x)=d(x_i) at discrete points i, we would like to know h_j and DeltaRho_j. d(x) is assumed to be produced in actual values ({h_i_actual}, {DeltaRho_i_actual})\n",
    "\n",
    "\n",
    "# One may solve this problem in the following way: Indifferent to d(x), there may be (priori) limitations on the values of h and DeltaRho. We will assume that\n",
    "# 2km <= h_j <= 10 km\n",
    "# -2000 kg/m3 <= DeltaRho_j <= 2000 kg/m3\n",
    "# with an equal (priori) probability \\rho(h,DeltaRho) for all values herein.\n",
    "\n",
    "# However, given that we have observed d(x), the probability for each value changes. Using Bayes, and writing m=(h,DeltaRho) as a shorthand for a full set of values of {h_i,DeltaRho_i}, one may write\n",
    "#\\sigma(m)=\\rho(m)*L(m)\n",
    "#where sigma is the porbability of measuring m, given the actual observations d(x) and L(m) is the likelihood function, describing how observations d(x) changes the priori probability \\rho(m).\n",
    "# L(m) is defined by eq. (1) in the problemset. L(m) encapsulates all relation between m and the actual observations m_actual=(h_actual,DeltaRho_actual). \n",
    "# One may from L(m) thus define a missfit function\n",
    "# S=-ln(L)\n",
    "# to quantify how well m approximates m_actual.\n",
    "\n",
    "\n",
    "# one may thus propose the following algorithm for finding a nice approximation to m_actual:\n",
    "# 1) Consider a physically realisable m=({h_j},{DeltaRho_j}) which approximates m_actual. ´Physically realisable´ means \\rho(m)≠0. Call it m_k and write it as a vector of DeltaRho_j and h_j. \n",
    "#  We would like to find an even better approximation, call it m_(k+1), than this one. This is what the algorithm below does. \n",
    "#  Perturb m_k slightly by choosing a single h_j or DeltaRho_j, adding to it [-l,l] for some fixed l.\n",
    "#  Check that the perturbed m_perturb is still physically realisable by checking /rho(m_perturb)≠0.\n",
    "# 2) We would now like to relate m_k to the actual m_actual. To do this, compute S(m_perturb). \n",
    "# Is this better or worse than S(m_k)? We need an acceptance algorithm to decide whether m_perturb is better.\n",
    "#.  The algorithm for accepting m_perturb as a better approximation than m_k:\n",
    "#.     If S(m_perturb)>S(m_k): ((meaning it is doubtful that m_perturb is better than m_k )):\n",
    "#.         p_accept = eq. (4) line 1\n",
    "#.     If S(m_perturb<S(m_k)): ((meaning m_perturb is definitely a better approxiation to m_actual than m_k)):\n",
    "#.         p_accept = 1    ((immediately accept the new m since it is better than the old one ))\n",
    "\n",
    "# 3) If m_perturb has been accepted, set m_(k+1)=m_perturb, otherwise keep the old value, m_(k+1)=m_k.\n",
    "# 4) Repeat steps 1-3 with m_(k+1) to gradually find better and better approximations for m_actual.\n",
    "\n",
    "#\n",
    "# ----\n",
    "#\n",
    "#"
   ]
  },
  {
   "cell_type": "code",
   "execution_count": 108,
   "metadata": {},
   "outputs": [],
   "source": [
    "# load observation data\n",
    "Data = np.loadtxt('gravdata.txt')\n",
    "d_obs = Data[:,1]\n",
    "x_obs = Data[:,0]\n",
    "G=6.67430*10**(-11)\n",
    "s=10**(-9) # units [s**(-2)]\n",
    "#print(d_obs)\n",
    "\n",
    "# usefull functions\n",
    "def d(m):\n",
    "    # m is a vector of (DeltaRho,h)\n",
    "    d=[]\n",
    "    DeltaRho = m[:int(len(m)/2)]\n",
    "    h = m [int(len(m)/2):]\n",
    "    for x_i in x_obs:\n",
    "        # find d_i=d(x_i)\n",
    "        d_i=0\n",
    "        z_top=0\n",
    "        for thickness,deltarho in zip(h,DeltaRho):\n",
    "            d_i += G*deltarho*np.log(((z_top+thickness)**2+x_i**2)/(z_top**2+x_i**2)) # z_base = z_top + thickness, G is just proportionality constant and is neglected\n",
    "            z_top += thickness\n",
    "        d.append(d_i)\n",
    "    #print(d)\n",
    "    return np.array(d)\n",
    "    \n",
    "\n",
    "def L(m):\n",
    "    return np.exp(-np.sum(np.square(d_obs-d(m)))/s**2)\n",
    "\n",
    "layers=100\n",
    "#generate random sample obeying DeltaRho and h boundaries (meaning they are physically ok)\n",
    "Delta_Rho = np.random.uniform(low=-50, high=50, size = layers) # unit = [kg/m**3], uses 1/100 of physically ok interval\n",
    "#Delta_Rho = np.arange(0,layers)\n",
    "h = np.random.uniform(low=3*1000, high=4*1000,  size = layers) # unit = [m], uses 1/100 of physically ok interval\n",
    "#h = np.arange(0,layers)\n",
    "# calculate how well (DeltaRho,h) approximate actual observations d(x)\n",
    "m_reference=np.append(Delta_Rho,h)\n",
    "#print(m_reference)\n",
    "\n",
    "def S_from_L(m):\n",
    "    return -np.log(L(m))\n",
    "\n",
    "def S(m):\n",
    "    return np.sum(np.square(d_obs-d(m)))/s**2\n",
    "\n",
    "def check_physical(m):\n",
    "    m=np.array(m)\n",
    "    if all(np.abs(m[0:int(len(m)/2)])<=2000) and all(m[int(len(m)/2)::]<=10*1000) and all(m[int(len(m)/2)::]>=2*1000):\n",
    "        return True\n",
    "    else: \n",
    "        return False\n",
    "#check_physical([-1,4000])"
   ]
  },
  {
   "cell_type": "code",
   "execution_count": 109,
   "metadata": {},
   "outputs": [
    {
     "name": "stdout",
     "output_type": "stream",
     "text": [
      "non-physical m_pert\n",
      "non-physical m_pert\n",
      "non-physical m_pert\n",
      "non-physical m_pert\n",
      "acceptance probability 99.0\n"
     ]
    },
    {
     "data": {
      "text/plain": [
       "[<matplotlib.lines.Line2D at 0x7fb4fd87fb20>]"
      ]
     },
     "execution_count": 109,
     "metadata": {},
     "output_type": "execute_result"
    },
    {
     "data": {
      "image/png": "[encoded data removed]",
      "text/plain": [
       "<Figure size 432x288 with 1 Axes>"
      ]
     },
     "metadata": {
      "needs_background": "light"
     },
     "output_type": "display_data"
    }
   ],
   "source": [
    "number_of_steps = 400\n",
    "i=0\n",
    "#print(m_reference)\n",
    "m=copy.deepcopy(m_reference)\n",
    "log_l_m=np.array([])\n",
    "accepted=0\n",
    "while i < number_of_steps:\n",
    "    #print()\n",
    "    # perturb m to create m_pert\n",
    "    l = 500\n",
    "    r = np.random.uniform(-l,l)\n",
    "    index = np.random.randint(0,len(m))\n",
    "    m_pert = copy.deepcopy(m)\n",
    "    m_pert[index] = m_pert[index] + r\n",
    "    #print('compare old with new \\n',m==m_pert)\n",
    "    \n",
    "    #print('S(m_pert):', S(m_pert))\n",
    "    #print('S(m):', S(m))\n",
    "    # update m to m_new with a certain probability, p_accept\n",
    "    if check_physical(m_pert):\n",
    "        if S(m_pert) > S(m):\n",
    "            p_accept = np.exp(- (S(m_pert) - S(m)))\n",
    "        else:\n",
    "            p_accept = 1\n",
    "        if np.random.uniform(0,1) <= p_accept:\n",
    "            m=m_pert\n",
    "            accepted += 1\n",
    "            #print('m\\n',m)\n",
    "        else: \n",
    "            continue # dont update m, ie. m_(k+1) = m_k\n",
    "    else:\n",
    "        print('non-physical m_pert')\n",
    "    log_l_m=np.append(log_l_m,-S(m))\n",
    "    \n",
    "    \n",
    "    \n",
    "    \n",
    "    \n",
    "    i += 1\n",
    "#print(m)\n",
    "print('acceptance probability', accepted/number_of_steps*100)\n",
    "#print(log_l_m)\n",
    "plt.plot(np.arange(number_of_steps),log_l_m)"
   ]
  },
  {
   "cell_type": "code",
   "execution_count": null,
   "metadata": {},
   "outputs": [],
   "source": []
  },
  {
   "cell_type": "code",
   "execution_count": null,
   "metadata": {},
   "outputs": [],
   "source": []
  }
 ],
 "metadata": {
  "kernelspec": {
   "display_name": "Python 3",
   "language": "python",
   "name": "python3"
  },
  "language_info": {
   "codemirror_mode": {
    "name": "ipython",
    "version": 3
   },
   "file_extension": ".py",
   "mimetype": "text/x-python",
   "name": "python",
   "nbconvert_exporter": "python",
   "pygments_lexer": "ipython3",
   "version": "3.8.5"
  }
 },
 "nbformat": 4,
 "nbformat_minor": 4
}
